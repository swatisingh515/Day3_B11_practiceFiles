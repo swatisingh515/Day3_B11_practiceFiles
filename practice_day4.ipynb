{
 "cells": [
  {
   "cell_type": "code",
   "execution_count": 1,
   "metadata": {},
   "outputs": [
    {
     "name": "stdout",
     "output_type": "stream",
     "text": [
      "['hepsibha', 'ravi', 'lavanya', 'srinivas']\n"
     ]
    }
   ],
   "source": [
    "#Introduction  to list data types-list is an mutable data type \n",
    "#how to declare a list---------------->   []\n",
    "\n",
    "students =['hepsibha','ravi','lavanya','srinivas']\n",
    "print(students)\n"
   ]
  },
  {
   "cell_type": "code",
   "execution_count": 6,
   "metadata": {},
   "outputs": [
    {
     "name": "stdout",
     "output_type": "stream",
     "text": [
      "ravi\n"
     ]
    }
   ],
   "source": [
    "#requirement : to print ravi in the output --?\n",
    "#Introduction to indexing--0,1,2,3 --indexing always starts from 0 and onwards\n",
    "\n",
    "print(students[1])"
   ]
  },
  {
   "cell_type": "code",
   "execution_count": 4,
   "metadata": {},
   "outputs": [
    {
     "name": "stdout",
     "output_type": "stream",
     "text": [
      "Srinivas\n"
     ]
    }
   ],
   "source": [
    "#enhancements\n",
    "print(students[3].title())"
   ]
  },
  {
   "cell_type": "code",
   "execution_count": 5,
   "metadata": {},
   "outputs": [
    {
     "name": "stdout",
     "output_type": "stream",
     "text": [
      "LAVANYA\n"
     ]
    }
   ],
   "source": [
    "print(students[2].upper())"
   ]
  },
  {
   "cell_type": "code",
   "execution_count": 7,
   "metadata": {},
   "outputs": [
    {
     "name": "stdout",
     "output_type": "stream",
     "text": [
      "['hepsibha', 'ravi', 'lavanya', 'srinivas']\n"
     ]
    }
   ],
   "source": [
    "print(students)"
   ]
  },
  {
   "cell_type": "code",
   "execution_count": 14,
   "metadata": {},
   "outputs": [
    {
     "name": "stdout",
     "output_type": "stream",
     "text": [
      "Keep it up Lavanya\n"
     ]
    }
   ],
   "source": [
    "message = f\"Keep it up {students[2].title()}\"\n",
    "print(message)"
   ]
  },
  {
   "cell_type": "code",
   "execution_count": 15,
   "metadata": {},
   "outputs": [
    {
     "name": "stdout",
     "output_type": "stream",
     "text": [
      "['hepsibha', 'ravi', 'lavanya', 'srinivas']\n"
     ]
    }
   ],
   "source": [
    "#core concepts of list - since mutable so it can modified/changed/adding/deleting\n",
    "print(students)\n"
   ]
  },
  {
   "cell_type": "code",
   "execution_count": 16,
   "metadata": {},
   "outputs": [
    {
     "name": "stdout",
     "output_type": "stream",
     "text": [
      "['hepsibha', 'ravi', 'lavanya', 'srinivas', 'ruhi']\n"
     ]
    }
   ],
   "source": [
    "#adding an element - whatver is added using append , it will be added to end of the list--------------append('value')--at end\n",
    "students.append('ruhi')\n",
    "print(students)"
   ]
  },
  {
   "cell_type": "code",
   "execution_count": 17,
   "metadata": {},
   "outputs": [
    {
     "name": "stdout",
     "output_type": "stream",
     "text": [
      "['hepsibha', 'ravi', 'swati', 'lavanya', 'srinivas', 'ruhi']\n"
     ]
    }
   ],
   "source": [
    "#requirement - to add new element at second index position--------------------------insert(index,'value')---at any index\n",
    "students.insert(2,'swati')\n",
    "print(students)"
   ]
  },
  {
   "cell_type": "code",
   "execution_count": 18,
   "metadata": {},
   "outputs": [
    {
     "name": "stdout",
     "output_type": "stream",
     "text": [
      "swati\n"
     ]
    }
   ],
   "source": [
    "print(students[2])"
   ]
  },
  {
   "cell_type": "code",
   "execution_count": 19,
   "metadata": {},
   "outputs": [
    {
     "name": "stdout",
     "output_type": "stream",
     "text": [
      "['shankar', 'ravi', 'swati', 'lavanya', 'srinivas', 'ruhi']\n"
     ]
    }
   ],
   "source": [
    "#modify element in list\n",
    "#requirement:  place hepsibha by shankar\n",
    "\n",
    "students[0] ='shankar'\n",
    "print(students)"
   ]
  },
  {
   "cell_type": "code",
   "execution_count": 24,
   "metadata": {},
   "outputs": [
    {
     "data": {
      "text/plain": [
       "'lavanya'"
      ]
     },
     "execution_count": 24,
     "metadata": {},
     "output_type": "execute_result"
    }
   ],
   "source": [
    "#Delete element in list-------------#.pop() - delete last element by default - not delete the item permanently it will keep backup\n",
    "#reuirement - delete manjula from the list\n",
    "\n",
    "students.pop()"
   ]
  },
  {
   "cell_type": "code",
   "execution_count": 21,
   "metadata": {},
   "outputs": [
    {
     "data": {
      "text/plain": [
       "'swati'"
      ]
     },
     "execution_count": 21,
     "metadata": {},
     "output_type": "execute_result"
    }
   ],
   "source": [
    "students.pop(2)"
   ]
  },
  {
   "cell_type": "code",
   "execution_count": 22,
   "metadata": {},
   "outputs": [
    {
     "name": "stdout",
     "output_type": "stream",
     "text": [
      "['shankar', 'ravi', 'lavanya', 'srinivas']\n"
     ]
    }
   ],
   "source": [
    "print(students)"
   ]
  },
  {
   "cell_type": "code",
   "execution_count": 26,
   "metadata": {},
   "outputs": [
    {
     "name": "stdout",
     "output_type": "stream",
     "text": [
      "['ravi']\n"
     ]
    }
   ],
   "source": [
    "#delete by directly passing values----------------.remove('value)'\n",
    "\n",
    "students.remove('shankar')\n",
    "print(students)"
   ]
  },
  {
   "cell_type": "code",
   "execution_count": 27,
   "metadata": {},
   "outputs": [],
   "source": [
    "#Introduction to organizing a list\n",
    "my_students =['manoj','kishore','satish','ram','karnat']"
   ]
  },
  {
   "cell_type": "code",
   "execution_count": 28,
   "metadata": {},
   "outputs": [
    {
     "name": "stdout",
     "output_type": "stream",
     "text": [
      "['karnat', 'kishore', 'manoj', 'ram', 'satish']\n"
     ]
    }
   ],
   "source": [
    "#req -- orgainze in alphabetical order-------------------------.sort()---chnages are permanenet\n",
    "my_students.sort()\n",
    "print(my_students)"
   ]
  },
  {
   "cell_type": "code",
   "execution_count": 33,
   "metadata": {},
   "outputs": [
    {
     "name": "stdout",
     "output_type": "stream",
     "text": [
      "['karnat', 'kishore', 'manoj', 'ram', 'satish']\n"
     ]
    }
   ],
   "source": [
    "#sorted(list)----------------------use inside print - temporary sorting\n",
    "\n",
    "print(sorted(my_students))"
   ]
  },
  {
   "cell_type": "code",
   "execution_count": 34,
   "metadata": {},
   "outputs": [
    {
     "name": "stdout",
     "output_type": "stream",
     "text": [
      "['karnat', 'kishore', 'manoj', 'ram', 'satish']\n"
     ]
    }
   ],
   "source": [
    "#how to print list in REVERSE ORDER----------.reverse()\n",
    "print(my_students)"
   ]
  },
  {
   "cell_type": "code",
   "execution_count": 35,
   "metadata": {},
   "outputs": [
    {
     "name": "stdout",
     "output_type": "stream",
     "text": [
      "['satish', 'ram', 'manoj', 'kishore', 'karnat']\n"
     ]
    }
   ],
   "source": [
    "my_students.reverse()\n",
    "print(my_students)"
   ]
  },
  {
   "cell_type": "code",
   "execution_count": 36,
   "metadata": {},
   "outputs": [
    {
     "data": {
      "text/plain": [
       "5"
      ]
     },
     "execution_count": 36,
     "metadata": {},
     "output_type": "execute_result"
    }
   ],
   "source": [
    "#how to find length of list---len(List)\n",
    "\n",
    "len(my_students)\n"
   ]
  },
  {
   "cell_type": "code",
   "execution_count": null,
   "metadata": {},
   "outputs": [],
   "source": []
  }
 ],
 "metadata": {
  "kernelspec": {
   "display_name": "Python 3",
   "language": "python",
   "name": "python3"
  },
  "language_info": {
   "codemirror_mode": {
    "name": "ipython",
    "version": 3
   },
   "file_extension": ".py",
   "mimetype": "text/x-python",
   "name": "python",
   "nbconvert_exporter": "python",
   "pygments_lexer": "ipython3",
   "version": "3.7.4"
  }
 },
 "nbformat": 4,
 "nbformat_minor": 2
}
